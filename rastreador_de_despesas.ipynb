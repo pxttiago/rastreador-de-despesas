{
  "nbformat": 4,
  "nbformat_minor": 0,
  "metadata": {
    "colab": {
      "provenance": [],
      "authorship_tag": "ABX9TyNffmFC6pX+AAraxAENpT/h",
      "include_colab_link": true
    },
    "kernelspec": {
      "name": "python3",
      "display_name": "Python 3"
    },
    "language_info": {
      "name": "python"
    }
  },
  "cells": [
    {
      "cell_type": "markdown",
      "metadata": {
        "id": "view-in-github",
        "colab_type": "text"
      },
      "source": [
        "<a href=\"https://colab.research.google.com/github/pxttiago/rastreador-de-despesas/blob/main/rastreador_de_despesas.ipynb\" target=\"_parent\"><img src=\"https://colab.research.google.com/assets/colab-badge.svg\" alt=\"Open In Colab\"/></a>"
      ]
    },
    {
      "cell_type": "code",
      "execution_count": null,
      "metadata": {
        "id": "F2hwUUecRLi7"
      },
      "outputs": [],
      "source": [
        "class Despesas:\n",
        "    def __init__(self):\n",
        "        self.despesas = []\n",
        "        self.total = 0\n",
        "\n",
        "    def adicionar_despesa(self, descricao, valor):\n",
        "        try:\n",
        "            valor_numerico = float(valor)\n",
        "        except ValueError:\n",
        "            print('Insira um valor numérico')\n",
        "            return\n",
        "\n",
        "        self.despesas.append([descricao, valor_numerico])\n",
        "        self.total += valor_numerico\n",
        "        print(f'Despesa \"{descricao}\" no valor de R$ {valor_numerico:.2f} adicionada com sucesso')\n",
        "\n",
        "\n",
        "    def listar_despesas(self):\n",
        "        if not self.despesas:\n",
        "            print('Não há despesas cadastradas')\n",
        "            return\n",
        "\n",
        "        for despesa in self.despesas:\n",
        "            print(f'{despesa[0]} - Valor R$ {despesa[1]:.2f}')\n",
        "        print(f'Valor total: R$ {self.total}')\n"
      ]
    }
  ]
}